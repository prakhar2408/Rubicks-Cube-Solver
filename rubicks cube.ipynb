{
 "cells": [
  {
   "cell_type": "code",
   "execution_count": 1,
   "metadata": {},
   "outputs": [],
   "source": [
    "import cv2\n",
    "import numpy as np\n",
    "\n",
    "\n",
    "c={0: 'white',1:'red',2: 'green',3:'orange',4: 'blue',5:'yellow',}\n",
    "\n",
    "cube=np.zeros((6,3,3),np.int32)\n"
   ]
  },
  {
   "cell_type": "code",
   "execution_count": 2,
   "metadata": {},
   "outputs": [],
   "source": [
    "def img_to_array(img):\n",
    "    hsv = cv2.cvtColor(img, cv2.COLOR_BGR2HSV)\n",
    "    A=np.zeros([3,3],dtype=np.int32)\n",
    "    A2=img.shape\n",
    "\n",
    "    lower_red1=np.array([0, 70, 50])\n",
    "    upper_red1=np.array([10, 255, 255])\n",
    "\n",
    "    lower_red2=np.array([170, 70, 50])\n",
    "    upper_red2=np.array([180, 255, 255])\n",
    "\n",
    "    lower_yellow=np.array([10,100,100])\n",
    "    upper_yellow=np.array([35,255,255])\n",
    "\n",
    "    green_lower = np.array([25, 52, 111]) \n",
    "    green_upper = np.array([102, 255, 255])\n",
    "\n",
    "    blue_lower = np.array([94, 80, 2])\n",
    "    blue_upper = np.array([120, 255, 255])\n",
    "\n",
    "    lower_white = np.array([200,0,0], dtype=np.uint8)\n",
    "    upper_white = np.array([255,255,255], dtype=np.uint8)\n",
    "\n",
    "    mask_y=cv2.inRange(hsv,lower_yellow,upper_yellow)\n",
    "    mask_y= cv2.erode(mask_y, np.ones((3,3), dtype = np.uint8), iterations = 3)\n",
    "\n",
    "    contours,_=cv2.findContours(mask_y,cv2.RETR_TREE,cv2.CHAIN_APPROX_SIMPLE)\n",
    "    for cnt in contours:\n",
    "        m=cv2.moments(cnt)\n",
    "        y=int((m[\"m10\"]/m[\"m00\"]) // (A2[0]/3))\n",
    "        x=int((m[\"m01\"]/m[\"m00\"]) // (A2[1]/3))\n",
    "        A[x][y]=5;\n",
    "\n",
    "    mask_r=cv2.inRange(hsv,lower_red2,upper_red2)\n",
    "    mask_r = cv2.erode(mask_r, np.ones((3,3), dtype = np.uint8), iterations = 3)\n",
    "    contours,_=cv2.findContours(mask_r,cv2.RETR_TREE,cv2.CHAIN_APPROX_SIMPLE)\n",
    "    for cnt in contours:\n",
    "        m=cv2.moments(cnt)\n",
    "        y=int((m[\"m10\"]/m[\"m00\"]) // (A2[0]/3))\n",
    "        x=int((m[\"m01\"]/m[\"m00\"]) // (A2[1]/3))\n",
    "        A[x][y]=1;\n",
    "\n",
    "    mask_g = cv2.inRange(hsv, green_lower, green_upper)\n",
    "    mask_g = cv2.erode(mask_g, np.ones((3,3), dtype = np.uint8), iterations = 3)\n",
    "    contours,_=cv2.findContours(mask_g,cv2.RETR_TREE,cv2.CHAIN_APPROX_SIMPLE)\n",
    "    for cnt in contours:\n",
    "        m=cv2.moments(cnt)\n",
    "        y=int((m[\"m10\"]/m[\"m00\"]) // (A2[0]/3))\n",
    "        x=int((m[\"m01\"]/m[\"m00\"]) // (A2[1]/3))\n",
    "        A[x][y]=2;\n",
    "\n",
    "    mask_b = cv2.inRange(hsv, blue_lower, blue_upper)\n",
    "    mask_b = cv2.erode(mask_b, np.ones((3,3), dtype = np.uint8), iterations = 3)\n",
    "    contours,_=cv2.findContours(mask_b,cv2.RETR_TREE,cv2.CHAIN_APPROX_SIMPLE)\n",
    "    for cnt in contours:\n",
    "        m=cv2.moments(cnt)\n",
    "        y=int((m[\"m10\"]/m[\"m00\"]) // (A2[0]/3))\n",
    "        x=int((m[\"m01\"]/m[\"m00\"]) // (A2[1]/3))\n",
    "        A[x][y]=4;\n",
    "\n",
    "    mask_w = cv2.inRange(img, 0, 255)\n",
    "\n",
    "\n",
    "    mask_o=cv2.inRange(hsv,lower_red1,upper_red1)\n",
    "    mask_o = cv2.erode(mask_o, np.ones((3,3), dtype = np.uint8), iterations = 3)\n",
    "    contours,_=cv2.findContours(mask_o,cv2.RETR_TREE,cv2.CHAIN_APPROX_SIMPLE)\n",
    "    for cnt in contours:\n",
    "        m=cv2.moments(cnt)\n",
    "        y=int((m[\"m10\"]/m[\"m00\"]) // (A2[0]/3))\n",
    "        x=int((m[\"m01\"]/m[\"m00\"]) // (A2[1]/3))\n",
    "        A[x][y]=3;\n",
    "\n",
    "    return A;"
   ]
  },
  {
   "cell_type": "code",
   "execution_count": 3,
   "metadata": {},
   "outputs": [
    {
     "data": {
      "text/plain": [
       "array([[[1, 2, 2],\n",
       "        [3, 0, 1],\n",
       "        [3, 4, 0]],\n",
       "\n",
       "       [[3, 0, 4],\n",
       "        [3, 1, 3],\n",
       "        [5, 0, 1]],\n",
       "\n",
       "       [[0, 4, 3],\n",
       "        [5, 2, 1],\n",
       "        [5, 0, 1]],\n",
       "\n",
       "       [[5, 1, 0],\n",
       "        [5, 3, 2],\n",
       "        [2, 1, 5]],\n",
       "\n",
       "       [[3, 4, 4],\n",
       "        [5, 4, 2],\n",
       "        [4, 0, 4]],\n",
       "\n",
       "       [[2, 2, 2],\n",
       "        [3, 5, 5],\n",
       "        [0, 4, 1]]])"
      ]
     },
     "execution_count": 3,
     "metadata": {},
     "output_type": "execute_result"
    }
   ],
   "source": [
    "for i in range(0,6):\n",
    "    img = cv2.imread(c[i]+\".jpg\")\n",
    "    cube[i]=img_to_array(img)\n",
    "    \n",
    "cube"
   ]
  },
  {
   "cell_type": "code",
   "execution_count": 4,
   "metadata": {},
   "outputs": [],
   "source": [
    "\n",
    "\n",
    "cv2.waitKey(0)\n",
    "cv2.destroyAllWindows()"
   ]
  },
  {
   "cell_type": "code",
   "execution_count": 5,
   "metadata": {},
   "outputs": [],
   "source": [
    "# cube={0: 'white',1:'red',2: 'green',3:'orange',4: 'blue',5:'yellow',}"
   ]
  },
  {
   "cell_type": "code",
   "execution_count": 6,
   "metadata": {},
   "outputs": [],
   "source": [
    "a=np.array((6,3,3),dtype='int32')"
   ]
  },
  {
   "cell_type": "code",
   "execution_count": 7,
   "metadata": {},
   "outputs": [
    {
     "data": {
      "text/plain": [
       "array([6, 3, 3])"
      ]
     },
     "execution_count": 7,
     "metadata": {},
     "output_type": "execute_result"
    }
   ],
   "source": [
    "a"
   ]
  },
  {
   "cell_type": "code",
   "execution_count": 8,
   "metadata": {},
   "outputs": [
    {
     "name": "stdout",
     "output_type": "stream",
     "text": [
      "\u001b[1;31mDocstring:\u001b[0m\n",
      "array(object, dtype=None, *, copy=True, order='K', subok=False, ndmin=0)\n",
      "\n",
      "Create an array.\n",
      "\n",
      "Parameters\n",
      "----------\n",
      "object : array_like\n",
      "    An array, any object exposing the array interface, an object whose\n",
      "    __array__ method returns an array, or any (nested) sequence.\n",
      "dtype : data-type, optional\n",
      "    The desired data-type for the array.  If not given, then the type will\n",
      "    be determined as the minimum type required to hold the objects in the\n",
      "    sequence.\n",
      "copy : bool, optional\n",
      "    If true (default), then the object is copied.  Otherwise, a copy will\n",
      "    only be made if __array__ returns a copy, if obj is a nested sequence,\n",
      "    or if a copy is needed to satisfy any of the other requirements\n",
      "    (`dtype`, `order`, etc.).\n",
      "order : {'K', 'A', 'C', 'F'}, optional\n",
      "    Specify the memory layout of the array. If object is not an array, the\n",
      "    newly created array will be in C order (row major) unless 'F' is\n",
      "    specified, in which case it will be in Fortran order (column major).\n",
      "    If object is an array the following holds.\n",
      "\n",
      "    ===== ========= ===================================================\n",
      "    order  no copy                     copy=True\n",
      "    ===== ========= ===================================================\n",
      "    'K'   unchanged F & C order preserved, otherwise most similar order\n",
      "    'A'   unchanged F order if input is F and not C, otherwise C order\n",
      "    'C'   C order   C order\n",
      "    'F'   F order   F order\n",
      "    ===== ========= ===================================================\n",
      "\n",
      "    When ``copy=False`` and a copy is made for other reasons, the result is\n",
      "    the same as if ``copy=True``, with some exceptions for `A`, see the\n",
      "    Notes section. The default order is 'K'.\n",
      "subok : bool, optional\n",
      "    If True, then sub-classes will be passed-through, otherwise\n",
      "    the returned array will be forced to be a base-class array (default).\n",
      "ndmin : int, optional\n",
      "    Specifies the minimum number of dimensions that the resulting\n",
      "    array should have.  Ones will be pre-pended to the shape as\n",
      "    needed to meet this requirement.\n",
      "\n",
      "Returns\n",
      "-------\n",
      "out : ndarray\n",
      "    An array object satisfying the specified requirements.\n",
      "\n",
      "See Also\n",
      "--------\n",
      "empty_like : Return an empty array with shape and type of input.\n",
      "ones_like : Return an array of ones with shape and type of input.\n",
      "zeros_like : Return an array of zeros with shape and type of input.\n",
      "full_like : Return a new array with shape of input filled with value.\n",
      "empty : Return a new uninitialized array.\n",
      "ones : Return a new array setting values to one.\n",
      "zeros : Return a new array setting values to zero.\n",
      "full : Return a new array of given shape filled with value.\n",
      "\n",
      "\n",
      "Notes\n",
      "-----\n",
      "When order is 'A' and `object` is an array in neither 'C' nor 'F' order,\n",
      "and a copy is forced by a change in dtype, then the order of the result is\n",
      "not necessarily 'C' as expected. This is likely a bug.\n",
      "\n",
      "Examples\n",
      "--------\n",
      ">>> np.array([1, 2, 3])\n",
      "array([1, 2, 3])\n",
      "\n",
      "Upcasting:\n",
      "\n",
      ">>> np.array([1, 2, 3.0])\n",
      "array([ 1.,  2.,  3.])\n",
      "\n",
      "More than one dimension:\n",
      "\n",
      ">>> np.array([[1, 2], [3, 4]])\n",
      "array([[1, 2],\n",
      "       [3, 4]])\n",
      "\n",
      "Minimum dimensions 2:\n",
      "\n",
      ">>> np.array([1, 2, 3], ndmin=2)\n",
      "array([[1, 2, 3]])\n",
      "\n",
      "Type provided:\n",
      "\n",
      ">>> np.array([1, 2, 3], dtype=complex)\n",
      "array([ 1.+0.j,  2.+0.j,  3.+0.j])\n",
      "\n",
      "Data-type consisting of more than one element:\n",
      "\n",
      ">>> x = np.array([(1,2),(3,4)],dtype=[('a','<i4'),('b','<i4')])\n",
      ">>> x['a']\n",
      "array([1, 3])\n",
      "\n",
      "Creating an array from sub-classes:\n",
      "\n",
      ">>> np.array(np.mat('1 2; 3 4'))\n",
      "array([[1, 2],\n",
      "       [3, 4]])\n",
      "\n",
      ">>> np.array(np.mat('1 2; 3 4'), subok=True)\n",
      "matrix([[1, 2],\n",
      "        [3, 4]])\n",
      "\u001b[1;31mType:\u001b[0m      builtin_function_or_method\n"
     ]
    }
   ],
   "source": [
    "np.array?\n"
   ]
  },
  {
   "cell_type": "code",
   "execution_count": null,
   "metadata": {},
   "outputs": [],
   "source": []
  }
 ],
 "metadata": {
  "kernelspec": {
   "display_name": "Python 3.8.5 32-bit",
   "language": "python",
   "name": "python3"
  },
  "language_info": {
   "codemirror_mode": {
    "name": "ipython",
    "version": 3
   },
   "file_extension": ".py",
   "mimetype": "text/x-python",
   "name": "python",
   "nbconvert_exporter": "python",
   "pygments_lexer": "ipython3",
   "version": "3.8.5"
  },
  "vscode": {
   "interpreter": {
    "hash": "a17f964710a8dc536e661a0fefa7e0c5a4e419e49255f2673fe9680dda88adcb"
   }
  }
 },
 "nbformat": 4,
 "nbformat_minor": 4
}
