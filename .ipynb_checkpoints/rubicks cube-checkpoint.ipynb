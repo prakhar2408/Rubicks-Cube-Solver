{
 "cells": [
  {
   "cell_type": "code",
   "execution_count": 129,
   "metadata": {},
   "outputs": [
    {
     "data": {
      "text/plain": [
       "6"
      ]
     },
     "execution_count": 129,
     "metadata": {},
     "output_type": "execute_result"
    }
   ],
   "source": [
    "import cv2\n",
    "import numpy as np\n",
    "\n",
    "\n",
    "c={0: 'white',1:'red',2: 'green',3:'orange',4: 'blue',5:'yellow',}\n",
    "\n",
    "cube=np.array([6,3,3],np.int32)\n"
   ]
  },
  {
   "cell_type": "code",
   "execution_count": 122,
   "metadata": {},
   "outputs": [],
   "source": [
    "def img_to_array(img):\n",
    "    hsv = cv2.cvtColor(img, cv2.COLOR_BGR2HSV)\n",
    "    A=np.zeros([3,3],dtype=np.int32)\n",
    "    A2=img.shape\n",
    "\n",
    "    lower_red1=np.array([0, 70, 50])\n",
    "    upper_red1=np.array([10, 255, 255])\n",
    "\n",
    "    lower_red2=np.array([170, 70, 50])\n",
    "    upper_red2=np.array([180, 255, 255])\n",
    "\n",
    "    lower_yellow=np.array([10,100,100])\n",
    "    upper_yellow=np.array([35,255,255])\n",
    "\n",
    "    green_lower = np.array([25, 52, 111]) \n",
    "    green_upper = np.array([102, 255, 255])\n",
    "\n",
    "    blue_lower = np.array([94, 80, 2])\n",
    "    blue_upper = np.array([120, 255, 255])\n",
    "\n",
    "    lower_white = np.array([200,0,0], dtype=np.uint8)\n",
    "    upper_white = np.array([255,255,255], dtype=np.uint8)\n",
    "\n",
    "    mask_y=cv2.inRange(hsv,lower_yellow,upper_yellow)\n",
    "    mask_y= cv2.erode(mask_y, np.ones((3,3), dtype = np.uint8), iterations = 3)\n",
    "\n",
    "    contours,_=cv2.findContours(mask_y,cv2.RETR_TREE,cv2.CHAIN_APPROX_SIMPLE)\n",
    "    for cnt in contours:\n",
    "        m=cv2.moments(cnt)\n",
    "        y=int((m[\"m10\"]/m[\"m00\"]) // (A2[0]/3))\n",
    "        x=int((m[\"m01\"]/m[\"m00\"]) // (A2[1]/3))\n",
    "        A[x][y]=5;\n",
    "\n",
    "    mask_r=cv2.inRange(hsv,lower_red2,upper_red2)\n",
    "    mask_r = cv2.erode(mask_r, np.ones((3,3), dtype = np.uint8), iterations = 3)\n",
    "    contours,_=cv2.findContours(mask_r,cv2.RETR_TREE,cv2.CHAIN_APPROX_SIMPLE)\n",
    "    for cnt in contours:\n",
    "        m=cv2.moments(cnt)\n",
    "        y=int((m[\"m10\"]/m[\"m00\"]) // (A2[0]/3))\n",
    "        x=int((m[\"m01\"]/m[\"m00\"]) // (A2[1]/3))\n",
    "        A[x][y]=1;\n",
    "\n",
    "    mask_g = cv2.inRange(hsv, green_lower, green_upper)\n",
    "    mask_g = cv2.erode(mask_g, np.ones((3,3), dtype = np.uint8), iterations = 3)\n",
    "    contours,_=cv2.findContours(mask_g,cv2.RETR_TREE,cv2.CHAIN_APPROX_SIMPLE)\n",
    "    for cnt in contours:\n",
    "        m=cv2.moments(cnt)\n",
    "        y=int((m[\"m10\"]/m[\"m00\"]) // (A2[0]/3))\n",
    "        x=int((m[\"m01\"]/m[\"m00\"]) // (A2[1]/3))\n",
    "        A[x][y]=2;\n",
    "\n",
    "    mask_b = cv2.inRange(hsv, blue_lower, blue_upper)\n",
    "    mask_b = cv2.erode(mask_b, np.ones((3,3), dtype = np.uint8), iterations = 3)\n",
    "    contours,_=cv2.findContours(mask_b,cv2.RETR_TREE,cv2.CHAIN_APPROX_SIMPLE)\n",
    "    for cnt in contours:\n",
    "        m=cv2.moments(cnt)\n",
    "        y=int((m[\"m10\"]/m[\"m00\"]) // (A2[0]/3))\n",
    "        x=int((m[\"m01\"]/m[\"m00\"]) // (A2[1]/3))\n",
    "        A[x][y]=4;\n",
    "\n",
    "    mask_w = cv2.inRange(img, 0, 255)\n",
    "\n",
    "\n",
    "    mask_o=cv2.inRange(hsv,lower_red1,upper_red1)\n",
    "    mask_o = cv2.erode(mask_o, np.ones((3,3), dtype = np.uint8), iterations = 3)\n",
    "    contours,_=cv2.findContours(mask_o,cv2.RETR_TREE,cv2.CHAIN_APPROX_SIMPLE)\n",
    "    for cnt in contours:\n",
    "        m=cv2.moments(cnt)\n",
    "        y=int((m[\"m10\"]/m[\"m00\"]) // (A2[0]/3))\n",
    "        x=int((m[\"m01\"]/m[\"m00\"]) // (A2[1]/3))\n",
    "        A[x][y]=3;\n",
    "\n",
    "    return A;"
   ]
  },
  {
   "cell_type": "code",
   "execution_count": 123,
   "metadata": {},
   "outputs": [
    {
     "ename": "ValueError",
     "evalue": "setting an array element with a sequence.",
     "output_type": "error",
     "traceback": [
      "\u001b[1;31m---------------------------------------------------------------------------\u001b[0m",
      "\u001b[1;31mTypeError\u001b[0m                                 Traceback (most recent call last)",
      "\u001b[1;31mTypeError\u001b[0m: only size-1 arrays can be converted to Python scalars",
      "\nThe above exception was the direct cause of the following exception:\n",
      "\u001b[1;31mValueError\u001b[0m                                Traceback (most recent call last)",
      "\u001b[1;32m<ipython-input-123-b84ad20f62dd>\u001b[0m in \u001b[0;36m<module>\u001b[1;34m\u001b[0m\n\u001b[0;32m      1\u001b[0m \u001b[1;32mfor\u001b[0m \u001b[0mi\u001b[0m \u001b[1;32min\u001b[0m \u001b[0mrange\u001b[0m\u001b[1;33m(\u001b[0m\u001b[1;36m0\u001b[0m\u001b[1;33m,\u001b[0m\u001b[1;36m6\u001b[0m\u001b[1;33m)\u001b[0m\u001b[1;33m:\u001b[0m\u001b[1;33m\u001b[0m\u001b[1;33m\u001b[0m\u001b[0m\n\u001b[0;32m      2\u001b[0m     \u001b[0mimg\u001b[0m \u001b[1;33m=\u001b[0m \u001b[0mcv2\u001b[0m\u001b[1;33m.\u001b[0m\u001b[0mimread\u001b[0m\u001b[1;33m(\u001b[0m\u001b[0mc\u001b[0m\u001b[1;33m[\u001b[0m\u001b[0mi\u001b[0m\u001b[1;33m]\u001b[0m\u001b[1;33m+\u001b[0m\u001b[1;34m\".jpg\"\u001b[0m\u001b[1;33m)\u001b[0m\u001b[1;33m\u001b[0m\u001b[1;33m\u001b[0m\u001b[0m\n\u001b[1;32m----> 3\u001b[1;33m     \u001b[0mcube\u001b[0m\u001b[1;33m[\u001b[0m\u001b[0mi\u001b[0m\u001b[1;33m]\u001b[0m\u001b[1;33m=\u001b[0m\u001b[0mimg_to_array\u001b[0m\u001b[1;33m(\u001b[0m\u001b[0mimg\u001b[0m\u001b[1;33m)\u001b[0m\u001b[1;33m\u001b[0m\u001b[1;33m\u001b[0m\u001b[0m\n\u001b[0m\u001b[0;32m      4\u001b[0m \u001b[1;33m\u001b[0m\u001b[0m\n\u001b[0;32m      5\u001b[0m \u001b[0mcube\u001b[0m\u001b[1;33m\u001b[0m\u001b[1;33m\u001b[0m\u001b[0m\n",
      "\u001b[1;31mValueError\u001b[0m: setting an array element with a sequence."
     ]
    }
   ],
   "source": [
    "for i in range(0,6):\n",
    "    img = cv2.imread(c[i]+\".jpg\")\n",
    "    cube[i]=img_to_array(img)\n",
    "    \n",
    "cube"
   ]
  },
  {
   "cell_type": "code",
   "execution_count": 110,
   "metadata": {},
   "outputs": [],
   "source": [
    "\n",
    "cv2.imshow(\"mask1\",img)\n",
    "cv2.imshow(\"mask\",mask_b)\n",
    "cv2.waitKey(0)\n",
    "cv2.destroyAllWindows()"
   ]
  },
  {
   "cell_type": "code",
   "execution_count": null,
   "metadata": {},
   "outputs": [],
   "source": [
    "# cube={0: 'white',1:'red',2: 'green',3:'orange',4: 'blue',5:'yellow',}"
   ]
  },
  {
   "cell_type": "code",
   "execution_count": null,
   "metadata": {},
   "outputs": [],
   "source": []
  }
 ],
 "metadata": {
  "kernelspec": {
   "display_name": "Python 3",
   "language": "python",
   "name": "python3"
  },
  "language_info": {
   "codemirror_mode": {
    "name": "ipython",
    "version": 3
   },
   "file_extension": ".py",
   "mimetype": "text/x-python",
   "name": "python",
   "nbconvert_exporter": "python",
   "pygments_lexer": "ipython3",
   "version": "3.8.5"
  }
 },
 "nbformat": 4,
 "nbformat_minor": 4
}
